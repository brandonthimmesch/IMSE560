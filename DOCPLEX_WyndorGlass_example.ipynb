{
 "cells": [
  {
   "cell_type": "markdown",
   "id": "cd10b78f-a980-47cd-9e19-811230ab93eb",
   "metadata": {
    "tags": []
   },
   "source": [
    "### Brandon Thimmesch, IMSE 560 TA\n",
    "\n",
    "\n",
    "# Wyndor Glass Problem"
   ]
  },
  {
   "cell_type": "code",
   "execution_count": null,
   "id": "761cbb8e-e6f1-4e6a-bd1f-37ba12398946",
   "metadata": {
    "tags": []
   },
   "outputs": [],
   "source": [
    "# checking installation status of CPLEX and DOCPLEX packages\n",
    "!pip install cplex --trusted-host pypi.org --trusted-host pypi.python.org --trusted-host=files.pythonhosted.org\n",
    "\n",
    "!pip install docplex --trusted-host pypi.org --trusted-host pypi.python.org --trusted-host=files.pythonhosted.org"
   ]
  },
  {
   "cell_type": "markdown",
   "id": "a64242a9-2a45-4a96-984f-6e3d95ab095a",
   "metadata": {},
   "source": [
    "## Importing Libraries"
   ]
  },
  {
   "cell_type": "code",
   "execution_count": 1,
   "id": "dfc390fe-3e97-4e75-9899-f46aababb66c",
   "metadata": {
    "tags": []
   },
   "outputs": [],
   "source": [
    "import sys\n",
    "import docplex.mp as mp\n",
    "from docplex.mp.model import Model"
   ]
  },
  {
   "cell_type": "markdown",
   "id": "1673098f-920e-4d46-a3b0-0f65e7fa85de",
   "metadata": {
    "tags": []
   },
   "source": [
    "## Basic Model"
   ]
  },
  {
   "cell_type": "code",
   "execution_count": 2,
   "id": "1aa5fb54-1cb0-4a1b-ab48-66b761bc12ee",
   "metadata": {},
   "outputs": [],
   "source": [
    "# this model is a recreation of the Wyndor Glass excel model that can be found on Canvas\n",
    "class LP_problem_basic: # defining LP model formulation as a function\n",
    "    def __init__(self): # initializing the LP model\n",
    "        self.model = Model(name = 'Wyndor Glass co. Product-Mix Problem -- BASIC')\n",
    "    \n",
    "    # defining decision variables\n",
    "    def create_variables(self):\n",
    "        # decision variable that dictates the quantity of door batches to produce\n",
    "        self.Doors = self.model.continuous_var(name = 'Batches of Door', lb = 0) # lower bound = 0 (built in non-negativity constraint)\n",
    "        \n",
    "        # decision variable that dictates the quantity of window batches to produce\n",
    "        self.Windows = self.model.continuous_var(name = 'Batches of Windows', lb = 0) # lower bound = 0 (built in non-negativity constraint))\n",
    "\n",
    "    # defining objective function\n",
    "    def create_objective(self):\n",
    "        # objective function that maximizes total profits\n",
    "        self.model.maximize(3000 * self.Doors + 5000 * self.Windows)\n",
    "        # objective function sums the product of the quantities of door and window batches produced and their respective profit per batch\n",
    "\n",
    "    # defining constraints\n",
    "    def create_constraints(self):\n",
    "        # plant 1 requires 1 hour/batch of doors produced and has 4 hours of production time available\n",
    "        self.model.add_constraint(self.Doors <= 4) \n",
    "        \n",
    "        # plant 2 requires 2 hours/batch of windows produced and has 12 hours of production time available\n",
    "        self.model.add_constraint(2 * self.Windows <= 12) \n",
    "        \n",
    "        # plant 3 requires 3 hours/batch of doors produced, 2 hours/batch of windows produced, and has 18 hours of production time available\n",
    "        self.model.add_constraint(3 * self.Doors + 2 * self.Windows <= 18) \n",
    "\n",
    "    # defining function that solves our model when called\n",
    "    def solve_model(self):\n",
    "        # solve the optimization problem\n",
    "        solution = self.model.solve()\n",
    "        # no need to specify a solver as DOCPLEX will determine which solver is most appropriate for the application\n",
    "           \n",
    "        if solution:\n",
    "            print(self.model.solution)\n",
    "\n",
    "        else:\n",
    "            print(\"No solution found.\")\n",
    "            return None"
   ]
  },
  {
   "cell_type": "code",
   "execution_count": 3,
   "id": "472612fb-ea31-4198-987d-305478fa82bf",
   "metadata": {
    "tags": []
   },
   "outputs": [
    {
     "name": "stdout",
     "output_type": "stream",
     "text": [
      "solution for: Wyndor Glass co. Product-Mix Problem -- BASIC\n",
      "objective: 36000\n",
      "status: OPTIMAL_SOLUTION(2)\n",
      "Batches of Door=2.000\n",
      "Batches of Windows=6.000\n",
      "\n"
     ]
    }
   ],
   "source": [
    "# calling solver on our model to output a solution\n",
    "solver = LP_problem_basic()\n",
    "solver.create_variables()\n",
    "solver.create_objective()\n",
    "solver.create_constraints()\n",
    "solver.solve_model()"
   ]
  },
  {
   "cell_type": "markdown",
   "id": "3c56a934-6c0a-45d8-88e0-5b7a970b9786",
   "metadata": {},
   "source": [
    "## Advanced Model\n",
    "#### Makes use of variables, keys, for loops, and index references for robustness"
   ]
  },
  {
   "cell_type": "code",
   "execution_count": 4,
   "id": "36af1811-c498-41f9-b9a7-27b6b86611ca",
   "metadata": {
    "tags": []
   },
   "outputs": [],
   "source": [
    "# defining given constants as variables\n",
    "door_profit = 3000 # $3,000 profit per batch of doors\n",
    "window_profit = 5000 # $5,000 profit per batch of windows\n",
    "\n",
    "# storing plants available\n",
    "plants = ('P1','P2','P3')\n",
    "\n",
    "# storing products available\n",
    "products = ('Door','Window')\n",
    "\n",
    "# creating dictionary array to hold production requirements (in hours) for batches of doors and windows at plants 1, 2, and 3\n",
    "prod_req = {'P1':{'Door':1,'Window':0}, # requires 1 hour/batch of doors at plant 1, no window production capacity at plant 1\n",
    "            'P2':{'Door':0,'Window':2}, # requires 2 hours/batch of windows at plant 2, no door production capacity at plant 2\n",
    "            'P3':{'Door':3,'Window':2}} # requires 3 hours/batch of doors at plant 3, requires 2 hours/batch of doors at plant 3\n",
    "\n",
    "# creating dictionary to hold production capacity (in hours) at plants 1, 2, and 3\n",
    "prod_cap = {'P1':4,'P2':12,'P3':18} # plants 1, 2, and 3 have 4, 12, and 18 production hours available respectively\n",
    "\n",
    "# this model is a recreation of the Wyndor Glass excel model that can be found on Canvas\n",
    "class LP_problem_adv: # defining LP model formulation as a function\n",
    "    def __init__(self): # initializing the LP model\n",
    "        self.model = Model(name = 'Wyndor Glass co. Product-Mix Problem -- ADVANCED')\n",
    "\n",
    "    # defining decision variables\n",
    "    def create_variables(self):\n",
    "\n",
    "        # decision variable that dictates the quantity of product batches to produce\n",
    "        self.Batches = self.model.continuous_var_dict(keys = products, name = 'Batches', lb = 0) \n",
    "        # uses products (tuple) as keys, lower bound = 0 (built in non-negativity constraint)\n",
    "\n",
    "    # defining objective function\n",
    "    def create_objective(self):\n",
    "        # objective function that maximizes total profits\n",
    "        for i in plants:\n",
    "            self.model.maximize(self.model.sum(door_profit * self.Batches['Door'])\n",
    "                                + self.model.sum(window_profit * self.Batches['Window']))\n",
    "\n",
    "    # defining constraints\n",
    "    def create_constraints(self):\n",
    "        for i in plants:\n",
    "            # defining total production time as the production time requirement (at each plant) times the number of products we produce\n",
    "            total_prod_time = self.model.sum(prod_req[i][j] * self.Batches[j] for j in products)\n",
    "            \n",
    "            # constraining total production time at each plant to be less than the total number of production hours available at that plant\n",
    "            self.model.add_constraint(total_prod_time <= prod_cap[i])                                      \n",
    "                \n",
    "    # defining function that solves our model when called\n",
    "    def solve_model(self):\n",
    "        # solve the optimization problem\n",
    "        solution = self.model.solve() \n",
    "        # no need to specify a solver as DOCPLEX solver will determine solving methods that are most appropriate for the application\n",
    "           \n",
    "        if solution:\n",
    "            print(self.model.solution)\n",
    "\n",
    "        else:\n",
    "            print(\"No solution found.\")\n",
    "            return None"
   ]
  },
  {
   "cell_type": "code",
   "execution_count": 5,
   "id": "6efb6c22-28ae-4351-9c17-992ddd2f5786",
   "metadata": {
    "tags": []
   },
   "outputs": [
    {
     "name": "stdout",
     "output_type": "stream",
     "text": [
      "solution for: Wyndor Glass co. Product-Mix Problem -- ADVANCED\n",
      "objective: 36000\n",
      "status: OPTIMAL_SOLUTION(2)\n",
      "Batches_Door=2.000\n",
      "Batches_Window=6.000\n",
      "\n"
     ]
    }
   ],
   "source": [
    "# calling solver on our model to output a solution\n",
    "solver = LP_problem_adv()\n",
    "solver.create_variables()\n",
    "solver.create_objective()\n",
    "solver.create_constraints()\n",
    "solver.solve_model()"
   ]
  },
  {
   "cell_type": "markdown",
   "id": "0124cbd1-fefc-4155-8a3b-302efb32cbdc",
   "metadata": {},
   "source": [
    "We can see that both methods provide results that match the solution found using solver in Excel. You may think the advanced model is overly complicated, but storing your constraint information in a data structure (such as a list, array, or pandas dataframe) will help you create more robust, future-proof models that will be easier to modify in case any provided information changes. Additionally, referencing these arrays by their indices will help you create simplified model formulations that makes use of combinatorial notation such as X_ij (for i belonging to set I, for j belonging to set J).\n",
    "\n",
    "Please feel free to contact me by email (brandonthimmesch@ksu.edu) if you have any questions."
   ]
  }
 ],
 "metadata": {
  "kernelspec": {
   "display_name": "Python 3 (ipykernel)",
   "language": "python",
   "name": "python3"
  },
  "language_info": {
   "codemirror_mode": {
    "name": "ipython",
    "version": 3
   },
   "file_extension": ".py",
   "mimetype": "text/x-python",
   "name": "python",
   "nbconvert_exporter": "python",
   "pygments_lexer": "ipython3",
   "version": "3.10.12"
  }
 },
 "nbformat": 4,
 "nbformat_minor": 5
}
